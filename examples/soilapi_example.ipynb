{
 "cells": [
  {
   "cell_type": "markdown",
   "metadata": {},
   "source": [
    "# Tutorial to retrieve soil data from ```owimetadatabase```"
   ]
  },
  {
   "cell_type": "markdown",
   "metadata": {},
   "source": [
    "If you haven't already, you need to install the following packages in your Python environment or if you want to update them (mostly owimetadatabse-preprcoessor as it is frequently updated) (remove *%%capture* here if you have problems when installing):"
   ]
  },
  {
   "cell_type": "code",
   "execution_count": null,
   "metadata": {},
   "outputs": [],
   "source": [
    "%%capture\n",
    "%pip install python-dotenv==1.0.0\n",
    "%pip install owimetadatabase_preprocessor"
   ]
  },
  {
   "cell_type": "markdown",
   "metadata": {},
   "source": [
    "**Import**\n",
    "\n",
    "Load necessary modules:"
   ]
  },
  {
   "cell_type": "code",
   "execution_count": null,
   "metadata": {},
   "outputs": [],
   "source": [
    "import os\n",
    "from owimetadatabase_preprocessor.soil import SoilAPI, SoilprofileProcessor\n",
    "# To check software version\n",
    "from importlib_metadata import version"
   ]
  },
  {
   "cell_type": "markdown",
   "metadata": {},
   "source": [
    "**Version** ```owimetadatabase_preprocessor``` \n",
    "\n",
    "You can verify which version is being used in your current environment as shown "
   ]
  },
  {
   "cell_type": "code",
   "execution_count": null,
   "metadata": {},
   "outputs": [],
   "source": [
    "_v = version(\"owimetadatabase_preprocessor\")\n",
    "print(_v)"
   ]
  },
  {
   "cell_type": "markdown",
   "metadata": {},
   "source": [
    "## 1. Credentials and helper functions "
   ]
  },
  {
   "cell_type": "markdown",
   "metadata": {},
   "source": [
    "For authorization, the recommended way is to store your access token securely for authentication locally as an environment variable (can be in *.env* file next to your code, e.g. *.env* file with *OWIMETA_STAGING_TOKEN=<your-token-here>* field). Otherwise, just copying it to the **TOKEN** variable also works (but be careful with sahring/publishing, delete it from the notebook before). \n",
    "\n",
    "To load it into variable securely with your *.env* file:"
   ]
  },
  {
   "cell_type": "code",
   "execution_count": null,
   "metadata": {},
   "outputs": [],
   "source": [
    "TOKEN = os.getenv('OWIMETA_STAGING_TOKEN') "
   ]
  },
  {
   "cell_type": "markdown",
   "metadata": {},
   "source": [
    "<div class=\"alert alert-block alert-warning\">\n",
    "    Please note that you will need to change the <b>input arguments</b> in this notebook according to what you have access to, so it will actually provide an output.\n",
    "</div>"
   ]
  },
  {
   "cell_type": "markdown",
   "metadata": {},
   "source": [
    "Additionally let us define some helper functions for later:"
   ]
  },
  {
   "cell_type": "code",
   "execution_count": null,
   "metadata": {},
   "outputs": [],
   "source": [
    "def show_attrs(class_object: object):\n",
    "    print(f\"{class_object.__class__.__name__} class attributes: {class_object.__dict__.keys()}\")\n",
    "\n",
    "def show_props(class_object: object):\n",
    "    props = [prop for prop in vars(type(class_object)).keys() if isinstance(getattr(type(class_object), prop), property)]\n",
    "    print(f\"{class_object.__class__.__name__} class properties: {props}\")\n",
    "\n",
    "def show_methods(class_object: object):\n",
    "    methods = [method for method in dir(class_object) if callable(getattr(class_object, method)) and not method.startswith('_')]\n",
    "    print(f\"{class_object.__class__.__name__} class methods: {methods}\")"
   ]
  },
  {
   "cell_type": "markdown",
   "metadata": {},
   "source": [
    "## 2. Handeling soil related data "
   ]
  },
  {
   "cell_type": "markdown",
   "metadata": {},
   "source": [
    "### 2.1. Data retrieval\n",
    "\n",
    "Soil data can be retrieved through the dedicated api client through the ```SoilAPI``` class. To start, as usual, we first initiate the specific API object with your credentials."
   ]
  },
  {
   "cell_type": "code",
   "execution_count": null,
   "metadata": {},
   "outputs": [],
   "source": [
    "api_geo = SoilAPI(token=TOKEN)"
   ]
  },
  {
   "cell_type": "markdown",
   "metadata": {},
   "source": [
    "Now, we can start working with it. Since it is essentially a lot of similar methods but for different types of data, here, we will show only a few of them as examples, the rest can be consulted in the [documentation](https://owi-lab.github.io/owimetadatabase-preprocessor/index.html). "
   ]
  },
  {
   "cell_type": "markdown",
   "metadata": {},
   "source": [
    "#### Geotechnical campaigns\n",
    "\n",
    "To start, let's see what survey campaigns are available:"
   ]
  },
  {
   "cell_type": "code",
   "execution_count": null,
   "metadata": {},
   "outputs": [],
   "source": [
    "survey_campaigns = api_geo.get_surveycampaigns()\n",
    "survey_campaigns[\"data\"]"
   ]
  },
  {
   "cell_type": "markdown",
   "metadata": {},
   "source": [
    "For this example, we can use the data above next, to use the method allowing to look into a specific campaign if you have the information (name) already."
   ]
  },
  {
   "cell_type": "code",
   "execution_count": null,
   "metadata": {},
   "outputs": [],
   "source": [
    "project = survey_campaigns[\"data\"][\"projectsite_name\"].iloc[0]\n",
    "survey_campaign = survey_campaigns[\"data\"][\"title\"].iloc[0]"
   ]
  },
  {
   "cell_type": "code",
   "execution_count": null,
   "metadata": {},
   "outputs": [],
   "source": [
    "survey_campaigns_details = api_geo.get_surveycampaign_detail(projectsite=project, campaign=survey_campaign)\n",
    "survey_campaigns_details[\"data\"]"
   ]
  },
  {
   "cell_type": "markdown",
   "metadata": {},
   "source": [
    "#### Test locations\n",
    "\n",
    "To show the closest locations based on longitude and latitude for a given radius, we run the following:"
   ]
  },
  {
   "cell_type": "code",
   "execution_count": null,
   "metadata": {},
   "outputs": [],
   "source": [
    "close_loc = api_geo.get_proximity_testlocations(latitude=51.5, longitude=2.8, radius=10.0)\n",
    "if close_loc[\"exists\"]:\n",
    "    display(close_loc[\"data\"])\n",
    "else:\n",
    "    print(\"No test locations found within the radius or/and at this location.\")"
   ]
  },
  {
   "cell_type": "markdown",
   "metadata": {},
   "source": [
    "<div class=\"alert alert-block alert-info\">\n",
    "    Please note the outcome of this search depends on to what you have access to. In case of failure to find anything it usually\n",
    "    returns an empty dataframe and False exists value. Additionaly, you can use specific method to get only the closest location using\n",
    "    the above input data as well.\n",
    "</div>"
   ]
  },
  {
   "cell_type": "markdown",
   "metadata": {},
   "source": [
    "Some types of data allow for explicit checking if the specific element exists, e.g. for test locations:"
   ]
  },
  {
   "cell_type": "code",
   "execution_count": null,
   "metadata": {},
   "outputs": [],
   "source": [
    "close_loc = api_geo.testlocation_exists(projectsite=\"Nobelwind\", campaign=\"Borehole campaign\", location=\"CPT-888\")\n",
    "if close_loc:\n",
    "    print(f\"Test location exists, id={close_loc[\"id\"]}\")\n",
    "else:\n",
    "    print(f\"No test location according search criteria exists\")"
   ]
  },
  {
   "cell_type": "markdown",
   "metadata": {},
   "source": [
    "#### In-situ tests\n",
    "\n",
    "Results from CPT, including post-processed CPT measurements can be found as follows:"
   ]
  },
  {
   "cell_type": "code",
   "execution_count": null,
   "metadata": {},
   "outputs": [],
   "source": [
    "res = api_geo.get_cpttest_detail(insitutest=\"CPT-888\")\n",
    "display(res[\"id\"])\n",
    "display(res[\"insitutestsummary\"])\n",
    "display(res[\"rawdata\"])\n",
    "display(res[\"processeddata\"])"
   ]
  },
  {
   "cell_type": "markdown",
   "metadata": {},
   "source": [
    "#### Soil profiles\n",
    "\n",
    "Soil tests conducted in geotechnical studies serve to characterize the ground. Based on the available data, geotechnical engineers define a soil profile for a given location and scope. \n",
    "\n",
    "These profiles, if available, can be retrived in the database as shown below. Note that the user needs to know beforehand ```soilprofile```."
   ]
  },
  {
   "cell_type": "code",
   "execution_count": null,
   "metadata": {},
   "outputs": [],
   "source": [
    "soil_profile = api_geo.get_soilprofile_detail(\n",
    "    projectsite=\"Nobelwind\", \n",
    "    location=\"BBK04\", \n",
    "    soilprofile='Lateral Robertson Best estimate')['soilprofile']"
   ]
  },
  {
   "cell_type": "markdown",
   "metadata": {},
   "source": [
    "## 2.2. Data post-processing"
   ]
  },
  {
   "cell_type": "markdown",
   "metadata": {},
   "source": [
    "### 2.1. Soil profile for SSI modeling\n",
    "\n",
    "After retrieving a soil profile, it can be post-processed to ensure using ```SoilprofileProcessor``` it includes all necessary parameters for a specific geotechnical analysis within a given soil reaction framework. Below, the previously retrieved soil profile is further processed to obtain the required inputs for the PISA lateral design model."
   ]
  },
  {
   "cell_type": "markdown",
   "metadata": {},
   "source": [
    "#### Lateral "
   ]
  },
  {
   "cell_type": "code",
   "execution_count": null,
   "metadata": {},
   "outputs": [],
   "source": [
    "sbl = -30.0  # mLAT\n",
    "pisa_sp = SoilprofileProcessor.lateral(soil_profile, option=\"pisa\", mudline=sbl)\n",
    "pisa_sp"
   ]
  },
  {
   "cell_type": "markdown",
   "metadata": {},
   "source": [
    "Similarly, one can consult the available options, for a given loading conditions, either ```lateral``` or ```axial```, that are supported in the current version."
   ]
  },
  {
   "cell_type": "code",
   "execution_count": null,
   "metadata": {},
   "outputs": [],
   "source": [
    "SoilprofileProcessor.get_available_options(loading='lateral')"
   ]
  },
  {
   "cell_type": "markdown",
   "metadata": {},
   "source": [
    "<div class=\"alert alert-block alert-warning\">\n",
    "    <b>Not all soil profiles stored in the database contain the necessary soil parameters for a given SSI model.</b> The preprocessor automatically manages this and provides an informative error when required information is missing, as shown below. \n",
    "</div>"
   ]
  },
  {
   "cell_type": "code",
   "execution_count": null,
   "metadata": {},
   "outputs": [],
   "source": [
    "SoilprofileProcessor.lateral(soil_profile, option=\"apirp2geo\", mudline=sbl)"
   ]
  },
  {
   "cell_type": "markdown",
   "metadata": {},
   "source": [
    "#### Axial"
   ]
  },
  {
   "cell_type": "markdown",
   "metadata": {},
   "source": [
    "<div class=\"alert alert-block alert-info\">\n",
    "    <b>Under development.</b>\n",
    "</div>"
   ]
  },
  {
   "cell_type": "markdown",
   "metadata": {},
   "source": [
    "## 2.3. Visualize\n",
    "\n",
    "Plot functions for data visualization are included in the ```SoilPlot``` class which needs an instance of the current active ```SoilAPI``` class."
   ]
  },
  {
   "cell_type": "code",
   "execution_count": null,
   "metadata": {},
   "outputs": [],
   "source": [
    "from owimetadatabase_preprocessor.soil import SoilPlot"
   ]
  },
  {
   "cell_type": "code",
   "execution_count": null,
   "metadata": {},
   "outputs": [],
   "source": [
    "plotter = SoilPlot(api_geo)"
   ]
  },
  {
   "cell_type": "markdown",
   "metadata": {},
   "source": [
    "An example to plot test locations from provided data is shown below."
   ]
  },
  {
   "cell_type": "code",
   "execution_count": null,
   "metadata": {},
   "outputs": [],
   "source": [
    "plotter.plot_testlocations(projectsite=\"Nobelwind\", campaign=\"Borehole\")"
   ]
  }
 ],
 "metadata": {
  "kernelspec": {
   "display_name": "Python [conda env:owi_py12] *",
   "language": "python",
   "name": "conda-env-owi_py12-py"
  },
  "language_info": {
   "codemirror_mode": {
    "name": "ipython",
    "version": 3
   },
   "file_extension": ".py",
   "mimetype": "text/x-python",
   "name": "python",
   "nbconvert_exporter": "python",
   "pygments_lexer": "ipython3",
   "version": "3.12.9"
  }
 },
 "nbformat": 4,
 "nbformat_minor": 4
}
