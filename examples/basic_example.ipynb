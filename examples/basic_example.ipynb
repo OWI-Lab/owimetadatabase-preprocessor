{
 "cells": [
  {
   "cell_type": "markdown",
   "metadata": {},
   "source": [
    "# Using *owimetadatabase-preprocessor* to retrieve the data from Owimetadatabase"
   ]
  },
  {
   "cell_type": "markdown",
   "metadata": {},
   "source": [
    "If you haven't already, you need to install the following packages in your Python environment or if you want to update them (mostly owimetadatabse-preprcoessor as it is frequently updated) (remove *%%capture* here if you have problems when installing):"
   ]
  },
  {
   "cell_type": "code",
   "execution_count": null,
   "metadata": {},
   "outputs": [],
   "source": [
    "%%capture\n",
    "%pip install python-dotenv==1.0.0\n",
    "%pip install owimetadatabase_preprocessor"
   ]
  },
  {
   "cell_type": "markdown",
   "metadata": {},
   "source": [
    "Load necessary modules:"
   ]
  },
  {
   "cell_type": "code",
   "execution_count": null,
   "metadata": {},
   "outputs": [],
   "source": [
    "import os\n",
    "\n",
    "from owimetadatabase_preprocessor.locations.io import LocationsAPI \n",
    "from owimetadatabase_preprocessor.geometry.io import GeometryAPI\n",
    "from owimetadatabase_preprocessor.soil.io import SoilAPI\n",
    "from owimetadatabase_preprocessor.fatigue.io import FatigueAPI"
   ]
  },
  {
   "cell_type": "code",
   "execution_count": null,
   "metadata": {},
   "outputs": [],
   "source": [
    "import pandas as pd\n",
    "\n",
    "pd.set_option('display.max_columns', None)"
   ]
  },
  {
   "cell_type": "code",
   "execution_count": null,
   "metadata": {},
   "outputs": [],
   "source": [
    "from dotenv import load_dotenv\n",
    "\n",
    "load_dotenv()"
   ]
  },
  {
   "cell_type": "markdown",
   "metadata": {},
   "source": [
    "For authorization, the recommended way is to store your access token securely for authentication locally as an environment variable (can be in *.env* file next to your code, e.g. *.env* file with *OWIMETADB_TOKEN=<your-token-here>* field). Otherwise, just copying it to the **TOKEN** variable also works (but be careful with sahring/publishing, delete it from the notebook before). \n",
    "\n",
    "To load it into variable securely with your *.env* file:"
   ]
  },
  {
   "cell_type": "code",
   "execution_count": null,
   "metadata": {},
   "outputs": [],
   "source": [
    "TOKEN = os.getenv('OWIMETADB_TOKEN')"
   ]
  },
  {
   "cell_type": "markdown",
   "metadata": {},
   "source": [
    "Otherwise, just copy paste the provided token into **TOKEN**. Do not forget to delete it from your code if sharing!"
   ]
  },
  {
   "cell_type": "code",
   "execution_count": null,
   "metadata": {},
   "outputs": [],
   "source": [
    "TOKEN = \"<your-token-string-goes-here>\""
   ]
  },
  {
   "cell_type": "markdown",
   "metadata": {},
   "source": [
    "**TOKEN** can be passed down to your API to authenticate when requesting data from *owimetadatabase*. You can do this directly by passing *token* argument or passing using *header* in the format *{\"Authorization\": f\"Token {TOKEN}\"}*. You can also specify endpoint URL yourself if needed but the most up-to-date one is already provided by default."
   ]
  },
  {
   "cell_type": "markdown",
   "metadata": {},
   "source": [
    "**Please note that you will need to change the input arguments in this notebook according to what you have access to, so it will actually provide an output.**"
   ]
  },
  {
   "cell_type": "markdown",
   "metadata": {},
   "source": [
    "### Locations API"
   ]
  },
  {
   "cell_type": "markdown",
   "metadata": {},
   "source": [
    "For example, we can start working with locations, and for this we would need to work with *LocationsAPI*."
   ]
  },
  {
   "cell_type": "code",
   "execution_count": null,
   "metadata": {},
   "outputs": [],
   "source": [
    "api_loc = LocationsAPI(token=TOKEN)"
   ]
  },
  {
   "cell_type": "markdown",
   "metadata": {},
   "source": [
    "To view all the projects you have access to:"
   ]
  },
  {
   "cell_type": "code",
   "execution_count": null,
   "metadata": {},
   "outputs": [],
   "source": [
    "data_projectsites = api_loc.get_projectsites()\n",
    "data_projectsites[\"data\"]"
   ]
  },
  {
   "cell_type": "markdown",
   "metadata": {},
   "source": [
    "Here and further, the data is provided in dictionary format, with \"exists\" key specifying if queried data exists and \"data\" key with data itslef in a suitable format (dataframes)."
   ]
  },
  {
   "cell_type": "code",
   "execution_count": null,
   "metadata": {},
   "outputs": [],
   "source": [
    "list(data_projectsites.keys())"
   ]
  },
  {
   "cell_type": "markdown",
   "metadata": {},
   "source": [
    "To get all the location information for the specified projectsite: "
   ]
  },
  {
   "cell_type": "code",
   "execution_count": null,
   "metadata": {},
   "outputs": [],
   "source": [
    "locs = api_loc.get_assetlocations(projectsite=\"Nobelwind\")"
   ]
  },
  {
   "cell_type": "markdown",
   "metadata": {},
   "source": [
    "To make sure this data exists:"
   ]
  },
  {
   "cell_type": "code",
   "execution_count": null,
   "metadata": {},
   "outputs": [],
   "source": [
    "locs[\"exists\"]"
   ]
  },
  {
   "cell_type": "markdown",
   "metadata": {},
   "source": [
    "To view five first rows of the locations dataframe:"
   ]
  },
  {
   "cell_type": "code",
   "execution_count": null,
   "metadata": {},
   "outputs": [],
   "source": [
    "locs[\"data\"].head(3)"
   ]
  },
  {
   "cell_type": "markdown",
   "metadata": {},
   "source": [
    "For example, if there is no data for the specified project:"
   ]
  },
  {
   "cell_type": "code",
   "execution_count": null,
   "metadata": {},
   "outputs": [],
   "source": [
    "locs_false = api_loc.get_assetlocations(projectsite=\"Somename\")\n",
    "locs_false[\"exists\"]"
   ]
  },
  {
   "cell_type": "markdown",
   "metadata": {},
   "source": [
    "Please note that if you have access to a lot of projects/assets, it is better to narrow down your query as much as possible, e.g. by specifying a projectsite name or even turbine name(s). Otherwise, it might result in a lot of data and the database might run into timeout with no output returned. You even might need to use more specific method from the ones offered by the package. For that see more in documentation."
   ]
  },
  {
   "cell_type": "code",
   "execution_count": null,
   "metadata": {},
   "outputs": [],
   "source": [
    "data_asset = api_loc.get_assetlocation_detail(projectsite=\"Nobelwind\", assetlocation=[\"BBG01\"])\n",
    "data_asset[\"data\"]"
   ]
  },
  {
   "cell_type": "markdown",
   "metadata": {},
   "source": [
    "Alternatively, you can request several turbines at once. Can be from different projects. Since the requests right now are done sequentially, timeout is not as crucial in this case as it might be for geometry queries."
   ]
  },
  {
   "cell_type": "code",
   "execution_count": null,
   "metadata": {},
   "outputs": [],
   "source": [
    "data_asset = api_loc.get_assetlocations(assetlocations=[\"BBG01\", \"NRTA1\"])\n",
    "data_asset[\"data\"]"
   ]
  },
  {
   "cell_type": "markdown",
   "metadata": {},
   "source": [
    "You can also plot the locations for the all turbines you have access to, e.g. for a specific project or a set of specific turbines in a list:"
   ]
  },
  {
   "cell_type": "code",
   "execution_count": null,
   "metadata": {},
   "outputs": [],
   "source": [
    "api_loc.plot_assetlocations(projectsite=\"Nobelwind\")"
   ]
  },
  {
   "cell_type": "markdown",
   "metadata": {},
   "source": [
    "Please refer to the documentation for more specific details of each method and more capabilities. The package still might expand and add more capabilities in terms of querying specific data!"
   ]
  },
  {
   "cell_type": "markdown",
   "metadata": {},
   "source": [
    "### Geometry API"
   ]
  },
  {
   "cell_type": "markdown",
   "metadata": {},
   "source": [
    "This more extensive part of the package allows to gather and process geometrical data for each existing turbine in the database. It works in a similar manner to locations to get \"raw\" database information. But it gets a little bit different in terms of having methods allowing some preprocessing to get important geometry information (height, etc.) which can be used, e.g., as input to FE models. "
   ]
  },
  {
   "cell_type": "code",
   "execution_count": null,
   "metadata": {},
   "outputs": [],
   "source": [
    "api_geo = GeometryAPI(token=TOKEN)"
   ]
  },
  {
   "cell_type": "markdown",
   "metadata": {},
   "source": [
    "To load turbine processor to calculate the information for the turbine(s) (note it might take some time for multiple turbines and it can even timeout sometimes, please rerun the cell in this case):"
   ]
  },
  {
   "cell_type": "code",
   "execution_count": null,
   "metadata": {},
   "outputs": [],
   "source": [
    "turbines = [\"BBG01\", \"BBG10\"]\n",
    "owts = api_geo.get_owt_geometry_processor(turbines)"
   ]
  },
  {
   "cell_type": "markdown",
   "metadata": {},
   "source": [
    "By running the next cell you can see the information it can provide/store/calculate (mostly in dataframes or dictionaries): "
   ]
  },
  {
   "cell_type": "code",
   "execution_count": null,
   "metadata": {},
   "outputs": [],
   "source": [
    "list(owts.__dict__.keys())"
   ]
  },
  {
   "cell_type": "markdown",
   "metadata": {},
   "source": [
    "You can already acces the most trivial information like water depth in dictionary format:"
   ]
  },
  {
   "cell_type": "code",
   "execution_count": null,
   "metadata": {},
   "outputs": [],
   "source": [
    "owts.water_depth"
   ]
  },
  {
   "cell_type": "markdown",
   "metadata": {},
   "source": [
    "But the most important method is to calculate the information(s) about turbine(s) into dataframes. If you try to query some dataframes without running processing, they will provide no information, e.g.:"
   ]
  },
  {
   "cell_type": "code",
   "execution_count": null,
   "metadata": {},
   "outputs": [],
   "source": [
    "owts.all_turbines"
   ]
  },
  {
   "cell_type": "markdown",
   "metadata": {},
   "source": [
    "Hence, you would want to run the processing explicitly:"
   ]
  },
  {
   "cell_type": "code",
   "execution_count": null,
   "metadata": {},
   "outputs": [],
   "source": [
    "owts.process_structures()"
   ]
  },
  {
   "cell_type": "markdown",
   "metadata": {},
   "source": [
    "After this you can query all kinds of dataframes, e.g. all turbines general information:"
   ]
  },
  {
   "cell_type": "code",
   "execution_count": null,
   "metadata": {},
   "outputs": [],
   "source": [
    "owts.all_turbines"
   ]
  },
  {
   "cell_type": "markdown",
   "metadata": {},
   "source": [
    "Only tower geometry (tubular structures) for all turbines:"
   ]
  },
  {
   "cell_type": "code",
   "execution_count": null,
   "metadata": {},
   "outputs": [],
   "source": [
    "owts.tower"
   ]
  },
  {
   "cell_type": "markdown",
   "metadata": {},
   "source": [
    "For a specific turbine (you can either specify the name directly or the number in the list of turbines provided before):"
   ]
  },
  {
   "cell_type": "code",
   "execution_count": null,
   "metadata": {},
   "outputs": [],
   "source": [
    "owts.select_owt(\"BBG01\").tower"
   ]
  },
  {
   "cell_type": "markdown",
   "metadata": {},
   "source": [
    "Or even all tubular sections for all subassemblies for all turbines (convenient to filter later according to your requirement):"
   ]
  },
  {
   "cell_type": "code",
   "execution_count": null,
   "metadata": {},
   "outputs": [],
   "source": [
    "owts.all_tubular_structures"
   ]
  },
  {
   "cell_type": "markdown",
   "metadata": {},
   "source": [
    "Of course, you can also query other information like RNA:"
   ]
  },
  {
   "cell_type": "code",
   "execution_count": null,
   "metadata": {},
   "outputs": [],
   "source": [
    "owts.rna"
   ]
  },
  {
   "cell_type": "markdown",
   "metadata": {},
   "source": [
    "Or lumped masses, etc."
   ]
  },
  {
   "cell_type": "code",
   "execution_count": null,
   "metadata": {},
   "outputs": [],
   "source": [
    "owts.all_lumped_mass"
   ]
  },
  {
   "cell_type": "markdown",
   "metadata": {},
   "source": [
    "### Soil API"
   ]
  },
  {
   "cell_type": "markdown",
   "metadata": {},
   "source": [
    "Geotechnical part mainly consists of many *get_\\*, \\*_exists* and some *plot_\\** methods used to retrieve data in a suitable and convenient format from the database. To start, as usual, we first initiate the specific API object with your credentials."
   ]
  },
  {
   "cell_type": "code",
   "execution_count": null,
   "metadata": {},
   "outputs": [],
   "source": [
    "api_geo = SoilAPI(token=TOKEN)"
   ]
  },
  {
   "cell_type": "markdown",
   "metadata": {},
   "source": [
    "Now, we can start working with it. Since it is essentially a lot of similar methods but for different types of data, here, we will show only a few of them as examples, the rest can be consulted in the [documentation](https://owi-lab.github.io/owimetadatabase-preprocessor/index.html). "
   ]
  },
  {
   "cell_type": "markdown",
   "metadata": {},
   "source": [
    "To start, let's see what survey campaigns there are:"
   ]
  },
  {
   "cell_type": "code",
   "execution_count": null,
   "metadata": {},
   "outputs": [],
   "source": [
    "survey_campaigns = api_geo.get_surveycampaigns()\n",
    "survey_campaigns[\"data\"]"
   ]
  },
  {
   "cell_type": "markdown",
   "metadata": {},
   "source": [
    "For this example, we can use the data above next, to use the method allowing to look into a specific campaign if you have the information (name) already."
   ]
  },
  {
   "cell_type": "code",
   "execution_count": null,
   "metadata": {},
   "outputs": [],
   "source": [
    "project = survey_campaigns[\"data\"][\"projectsite_name\"].iloc[0]\n",
    "survey_campaign = survey_campaigns[\"data\"][\"title\"].iloc[0]"
   ]
  },
  {
   "cell_type": "code",
   "execution_count": null,
   "metadata": {},
   "outputs": [],
   "source": [
    "survey_campaigns_details = api_geo.get_surveycampaign_detail(projectsite=project, campaign=survey_campaign)\n",
    "survey_campaigns_details[\"data\"]"
   ]
  },
  {
   "cell_type": "markdown",
   "metadata": {},
   "source": [
    "To show the closest locations based on longitude and latitude for a given radius, we run the following:"
   ]
  },
  {
   "cell_type": "code",
   "execution_count": null,
   "metadata": {},
   "outputs": [],
   "source": [
    "close_loc = api_geo.get_proximity_testlocations(latitude=51.5, longitude=2.8, radius=10.0)\n",
    "if close_loc[\"exists\"]:\n",
    "    display(close_loc[\"data\"])\n",
    "else:\n",
    "    print(\"No locations found within the radius or/and at this location.\")"
   ]
  },
  {
   "cell_type": "markdown",
   "metadata": {},
   "source": [
    "Please note the outcome of this search depends on to what you have access to. In case of failure to find anything it usually returns an empty dataframe and False exists value. Additionaly, you can use specific method to get only the closest location using the above input data as well."
   ]
  },
  {
   "cell_type": "markdown",
   "metadata": {},
   "source": [
    "Some types of data allow for explicit checking if the specific element exists, e.g. for test locations:"
   ]
  },
  {
   "cell_type": "code",
   "execution_count": null,
   "metadata": {},
   "outputs": [],
   "source": [
    "close_loc = api_geo.testlocation_exists(projectsite=\"Nobelwind\", campaign=\"Borehole campaign\", location=\"CPT-888\")\n",
    "close_loc[\"data\"]"
   ]
  },
  {
   "cell_type": "markdown",
   "metadata": {},
   "source": [
    "More complex data will provide more extensive output to the requests, e.g. to get cpt test details:"
   ]
  },
  {
   "cell_type": "code",
   "execution_count": null,
   "metadata": {},
   "outputs": [],
   "source": [
    "res = api_geo.get_cpttest_detail(insitutest=\"CPT-888\")\n",
    "display(res[\"id\"])\n",
    "display(res[\"insitutestsummary\"])\n",
    "display(res[\"rawdata\"])\n",
    "display(res[\"processeddata\"])"
   ]
  },
  {
   "cell_type": "markdown",
   "metadata": {},
   "source": [
    "There are much more different methods which can be queried according to the documentation."
   ]
  },
  {
   "cell_type": "markdown",
   "metadata": {},
   "source": [
    "### Final remarks"
   ]
  },
  {
   "cell_type": "markdown",
   "metadata": {},
   "source": [
    "The package is currently a work in progress. In case of issues (code, docs)/bugs/suggestions contact the [authors](mailto:Arsen.Melnikov@vub.be) or [file an issue on GitHub](https://github.com/OWI-Lab/owimetadatabase-preprocessor/issues).\n",
    "\n",
    "For more specific information about the explained functionality or more functionality, please [visit the documentation](https://owi-lab.github.io/owimetadatabase-preprocessor/index.html)."
   ]
  }
 ],
 "metadata": {
  "kernelspec": {
   "display_name": "test",
   "language": "python",
   "name": "python3"
  },
  "language_info": {
   "codemirror_mode": {
    "name": "ipython",
    "version": 3
   },
   "file_extension": ".py",
   "mimetype": "text/x-python",
   "name": "python",
   "nbconvert_exporter": "python",
   "pygments_lexer": "ipython3",
   "version": "3.10.13"
  }
 },
 "nbformat": 4,
 "nbformat_minor": 2
}
