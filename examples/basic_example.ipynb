{
 "cells": [
  {
   "cell_type": "markdown",
   "metadata": {},
   "source": [
    "# Using *owimetadatabase-preprocessor* to retrieve the data from Owimetadatabase"
   ]
  },
  {
   "cell_type": "markdown",
   "metadata": {},
   "source": [
    "If you haven't already, you need to install the following packages in your Python environment or if you want to update them (mostly owimetadatabse-preprcoessor as it is frequently updated) (remove *%%capture* here if you have problems when installing):"
   ]
  },
  {
   "cell_type": "code",
   "execution_count": null,
   "metadata": {},
   "outputs": [],
   "source": [
    "%%capture\n",
    "%pip install python-dotenv==1.0.0\n",
    "%pip install owimetadatabase_preprocessor"
   ]
  },
  {
   "cell_type": "markdown",
   "metadata": {},
   "source": [
    "Load necessary modules:"
   ]
  },
  {
   "cell_type": "code",
   "execution_count": 1,
   "metadata": {},
   "outputs": [],
   "source": [
    "import os\n",
    "\n",
    "from owimetadatabase_preprocessor.locations.io import LocationsAPI \n",
    "from owimetadatabase_preprocessor.geometry.io import GeometryAPI\n",
    "from owimetadatabase_preprocessor.soil.io import SoilAPI\n",
    "from owimetadatabase_preprocessor.fatigue.io import FatigueAPI"
   ]
  },
  {
   "cell_type": "markdown",
   "metadata": {},
   "source": [
    "Setup the necessary configurations and load environment variables. "
   ]
  },
  {
   "cell_type": "code",
   "execution_count": null,
   "metadata": {},
   "outputs": [],
   "source": [
    "import pandas as pd\n",
    "\n",
    "pd.set_option('display.max_columns', None)"
   ]
  },
  {
   "cell_type": "code",
   "execution_count": null,
   "metadata": {},
   "outputs": [],
   "source": [
    "from dotenv import load_dotenv\n",
    "\n",
    "load_dotenv()"
   ]
  },
  {
   "cell_type": "markdown",
   "metadata": {},
   "source": [
    "For authorization, the recommended way is to store your access token securely for authentication locally as an environment variable (can be in *.env* file next to your code, e.g. *.env* file with *OWIMETADB_TOKEN=<your-token-here>* field). Otherwise, just copying it to the **TOKEN** variable also works (but be careful with sahring/publishing, delete it from the notebook before). \n",
    "\n",
    "To load it into variable securely with your *.env* file:"
   ]
  },
  {
   "cell_type": "code",
   "execution_count": 3,
   "metadata": {},
   "outputs": [],
   "source": [
    "# TOKEN = os.getenv('OWIMETADB_TOKEN')\n",
    "TOKEN = os.getenv('OWIMETA_STAGING_TOKEN') "
   ]
  },
  {
   "cell_type": "markdown",
   "metadata": {},
   "source": [
    "Otherwise, just copy paste the provided token into **TOKEN**. Do not forget to delete it from your code if sharing!"
   ]
  },
  {
   "cell_type": "code",
   "execution_count": null,
   "metadata": {},
   "outputs": [],
   "source": [
    "TOKEN = \"<your-token-string-goes-here>\""
   ]
  },
  {
   "cell_type": "markdown",
   "metadata": {},
   "source": [
    "**TOKEN** can be passed down to your API to authenticate when requesting data from *owimetadatabase*. You can do this directly by passing *token* argument or passing using *header* in the format *{\"Authorization\": f\"Token {TOKEN}\"}*. You can also specify endpoint URL yourself if needed but the most up-to-date one is already provided by default."
   ]
  },
  {
   "cell_type": "markdown",
   "metadata": {},
   "source": [
    "**Please note that you will need to change the input arguments in this notebook according to what you have access to, so it will actually provide an output.**"
   ]
  },
  {
   "cell_type": "markdown",
   "metadata": {},
   "source": [
    "Additionally let us define some helper functions for later:"
   ]
  },
  {
   "cell_type": "code",
   "execution_count": null,
   "metadata": {},
   "outputs": [],
   "source": [
    "def show_attrs(class_object: object):\n",
    "    print(f\"{class_object.__class__.__name__} class attributes: {class_object.__dict__.keys()}\")\n",
    "\n",
    "def show_props(class_object: object):\n",
    "    props = [prop for prop in vars(type(class_object)).keys() if isinstance(getattr(type(class_object), prop), property)]\n",
    "    print(f\"{class_object.__class__.__name__} class properties: {props}\")\n",
    "\n",
    "def show_methods(class_object: object):\n",
    "    methods = [method for method in dir(class_object) if callable(getattr(class_object, method)) and not method.startswith('_')]\n",
    "    print(f\"{class_object.__class__.__name__} class methods: {methods}\")"
   ]
  },
  {
   "cell_type": "markdown",
   "metadata": {},
   "source": [
    "### Locations API"
   ]
  },
  {
   "cell_type": "markdown",
   "metadata": {},
   "source": [
    "For example, we can start working with locations, and for this we would need to work with *LocationsAPI*."
   ]
  },
  {
   "cell_type": "code",
   "execution_count": 4,
   "metadata": {},
   "outputs": [],
   "source": [
    "api_loc = LocationsAPI(token=TOKEN)"
   ]
  },
  {
   "cell_type": "markdown",
   "metadata": {},
   "source": [
    "To view all the projects you have access to:"
   ]
  },
  {
   "cell_type": "code",
   "execution_count": 5,
   "metadata": {},
   "outputs": [
    {
     "data": {
      "text/html": [
       "<div>\n",
       "<style scoped>\n",
       "    .dataframe tbody tr th:only-of-type {\n",
       "        vertical-align: middle;\n",
       "    }\n",
       "\n",
       "    .dataframe tbody tr th {\n",
       "        vertical-align: top;\n",
       "    }\n",
       "\n",
       "    .dataframe thead th {\n",
       "        text-align: right;\n",
       "    }\n",
       "</style>\n",
       "<table border=\"1\" class=\"dataframe\">\n",
       "  <thead>\n",
       "    <tr style=\"text-align: right;\">\n",
       "      <th></th>\n",
       "      <th>id</th>\n",
       "      <th>created</th>\n",
       "      <th>modified</th>\n",
       "      <th>description</th>\n",
       "      <th>slug</th>\n",
       "      <th>uuid</th>\n",
       "      <th>active</th>\n",
       "      <th>visibility</th>\n",
       "      <th>additional_data</th>\n",
       "      <th>title</th>\n",
       "      <th>area</th>\n",
       "      <th>created_by</th>\n",
       "      <th>modified_by</th>\n",
       "      <th>visibility_groups</th>\n",
       "    </tr>\n",
       "  </thead>\n",
       "  <tbody>\n",
       "    <tr>\n",
       "      <th>0</th>\n",
       "      <td>31</td>\n",
       "      <td>2020-09-25T15:21:55.736832Z</td>\n",
       "      <td>2021-02-15T09:09:29.344475Z</td>\n",
       "      <td>Nobelwind is the fourth project of the Belgian...</td>\n",
       "      <td>nobelwind</td>\n",
       "      <td>629cc9e8-0c5c-4603-88bd-132240019df5</td>\n",
       "      <td>False</td>\n",
       "      <td>usergroup</td>\n",
       "      <td>None</td>\n",
       "      <td>Nobelwind</td>\n",
       "      <td>None</td>\n",
       "      <td>1</td>\n",
       "      <td>1</td>\n",
       "      <td>[1]</td>\n",
       "    </tr>\n",
       "    <tr>\n",
       "      <th>1</th>\n",
       "      <td>33</td>\n",
       "      <td>2020-09-25T15:22:25.279854Z</td>\n",
       "      <td>2021-06-22T08:10:00.574499Z</td>\n",
       "      <td>Norther is the sixth project of the Belgian No...</td>\n",
       "      <td>norther</td>\n",
       "      <td>98c511ff-bf2b-4a38-94e3-b5572ce69d08</td>\n",
       "      <td>False</td>\n",
       "      <td>usergroup</td>\n",
       "      <td>None</td>\n",
       "      <td>Norther</td>\n",
       "      <td>None</td>\n",
       "      <td>1</td>\n",
       "      <td>2</td>\n",
       "      <td>[7]</td>\n",
       "    </tr>\n",
       "    <tr>\n",
       "      <th>2</th>\n",
       "      <td>32</td>\n",
       "      <td>2020-09-25T15:22:24.956739Z</td>\n",
       "      <td>2021-08-09T14:07:37.379336Z</td>\n",
       "      <td>Northwester 2 is the seventh project of the Be...</td>\n",
       "      <td>northwester-2</td>\n",
       "      <td>be4e1f23-7b2a-40ff-92ce-3a486e4ef7e9</td>\n",
       "      <td>False</td>\n",
       "      <td>usergroup</td>\n",
       "      <td>None</td>\n",
       "      <td>Northwester 2</td>\n",
       "      <td>None</td>\n",
       "      <td>1</td>\n",
       "      <td>1</td>\n",
       "      <td>[9]</td>\n",
       "    </tr>\n",
       "    <tr>\n",
       "      <th>3</th>\n",
       "      <td>35</td>\n",
       "      <td>2020-09-25T15:42:21.395372Z</td>\n",
       "      <td>2021-10-19T17:00:47.909161Z</td>\n",
       "      <td>Belwind is the second project of the Belgian N...</td>\n",
       "      <td>belwind</td>\n",
       "      <td>feb485d5-171a-4efb-9de1-b22b68df149b</td>\n",
       "      <td>False</td>\n",
       "      <td>usergroup</td>\n",
       "      <td>None</td>\n",
       "      <td>Belwind</td>\n",
       "      <td>None</td>\n",
       "      <td>1</td>\n",
       "      <td>2</td>\n",
       "      <td>[10]</td>\n",
       "    </tr>\n",
       "    <tr>\n",
       "      <th>4</th>\n",
       "      <td>30</td>\n",
       "      <td>2020-09-25T15:21:32.404395Z</td>\n",
       "      <td>2022-09-16T15:10:59.462792Z</td>\n",
       "      <td>Rentel is the fifth project of the Belgian Nor...</td>\n",
       "      <td>rentel</td>\n",
       "      <td>c875d63a-10a2-44c6-b2c3-1843824ff4b1</td>\n",
       "      <td>False</td>\n",
       "      <td>usergroup</td>\n",
       "      <td>None</td>\n",
       "      <td>Rentel</td>\n",
       "      <td>None</td>\n",
       "      <td>1</td>\n",
       "      <td>2</td>\n",
       "      <td>[14]</td>\n",
       "    </tr>\n",
       "    <tr>\n",
       "      <th>5</th>\n",
       "      <td>64</td>\n",
       "      <td>2022-12-07T14:55:31.610560Z</td>\n",
       "      <td>2022-12-07T14:55:31.610601Z</td>\n",
       "      <td>Measuring stations for Meetnet Vlaamse Banken</td>\n",
       "      <td>meetnet-vlaamse-banken</td>\n",
       "      <td>b75376e5-380a-4378-852b-942bdebb567b</td>\n",
       "      <td>True</td>\n",
       "      <td>usergroup</td>\n",
       "      <td>None</td>\n",
       "      <td>Meetnet Vlaamse Banken</td>\n",
       "      <td>{'type': 'MultiPolygon', 'coordinates': [[[[2....</td>\n",
       "      <td>1</td>\n",
       "      <td>1</td>\n",
       "      <td>[2]</td>\n",
       "    </tr>\n",
       "    <tr>\n",
       "      <th>6</th>\n",
       "      <td>69</td>\n",
       "      <td>2024-10-09T09:38:13.771419Z</td>\n",
       "      <td>2024-10-09T09:57:39.097270Z</td>\n",
       "      <td>Saint Nazaire is a 480MW offshore wind farm be...</td>\n",
       "      <td>saint-nazaire</td>\n",
       "      <td>b0a4ce31-d4bd-47f4-aa94-06750aee0f13</td>\n",
       "      <td>True</td>\n",
       "      <td>usergroup</td>\n",
       "      <td>None</td>\n",
       "      <td>Saint-Nazaire</td>\n",
       "      <td>None</td>\n",
       "      <td>39</td>\n",
       "      <td>39</td>\n",
       "      <td>[19]</td>\n",
       "    </tr>\n",
       "  </tbody>\n",
       "</table>\n",
       "</div>"
      ],
      "text/plain": [
       "   id                      created                     modified  \\\n",
       "0  31  2020-09-25T15:21:55.736832Z  2021-02-15T09:09:29.344475Z   \n",
       "1  33  2020-09-25T15:22:25.279854Z  2021-06-22T08:10:00.574499Z   \n",
       "2  32  2020-09-25T15:22:24.956739Z  2021-08-09T14:07:37.379336Z   \n",
       "3  35  2020-09-25T15:42:21.395372Z  2021-10-19T17:00:47.909161Z   \n",
       "4  30  2020-09-25T15:21:32.404395Z  2022-09-16T15:10:59.462792Z   \n",
       "5  64  2022-12-07T14:55:31.610560Z  2022-12-07T14:55:31.610601Z   \n",
       "6  69  2024-10-09T09:38:13.771419Z  2024-10-09T09:57:39.097270Z   \n",
       "\n",
       "                                         description                    slug  \\\n",
       "0  Nobelwind is the fourth project of the Belgian...               nobelwind   \n",
       "1  Norther is the sixth project of the Belgian No...                 norther   \n",
       "2  Northwester 2 is the seventh project of the Be...           northwester-2   \n",
       "3  Belwind is the second project of the Belgian N...                 belwind   \n",
       "4  Rentel is the fifth project of the Belgian Nor...                  rentel   \n",
       "5      Measuring stations for Meetnet Vlaamse Banken  meetnet-vlaamse-banken   \n",
       "6  Saint Nazaire is a 480MW offshore wind farm be...           saint-nazaire   \n",
       "\n",
       "                                   uuid  active visibility additional_data  \\\n",
       "0  629cc9e8-0c5c-4603-88bd-132240019df5   False  usergroup            None   \n",
       "1  98c511ff-bf2b-4a38-94e3-b5572ce69d08   False  usergroup            None   \n",
       "2  be4e1f23-7b2a-40ff-92ce-3a486e4ef7e9   False  usergroup            None   \n",
       "3  feb485d5-171a-4efb-9de1-b22b68df149b   False  usergroup            None   \n",
       "4  c875d63a-10a2-44c6-b2c3-1843824ff4b1   False  usergroup            None   \n",
       "5  b75376e5-380a-4378-852b-942bdebb567b    True  usergroup            None   \n",
       "6  b0a4ce31-d4bd-47f4-aa94-06750aee0f13    True  usergroup            None   \n",
       "\n",
       "                    title                                               area  \\\n",
       "0               Nobelwind                                               None   \n",
       "1                 Norther                                               None   \n",
       "2           Northwester 2                                               None   \n",
       "3                 Belwind                                               None   \n",
       "4                  Rentel                                               None   \n",
       "5  Meetnet Vlaamse Banken  {'type': 'MultiPolygon', 'coordinates': [[[[2....   \n",
       "6           Saint-Nazaire                                               None   \n",
       "\n",
       "   created_by  modified_by visibility_groups  \n",
       "0           1            1               [1]  \n",
       "1           1            2               [7]  \n",
       "2           1            1               [9]  \n",
       "3           1            2              [10]  \n",
       "4           1            2              [14]  \n",
       "5           1            1               [2]  \n",
       "6          39           39              [19]  "
      ]
     },
     "execution_count": 5,
     "metadata": {},
     "output_type": "execute_result"
    }
   ],
   "source": [
    "data_projectsites = api_loc.get_projectsites()\n",
    "data_projectsites[\"data\"]"
   ]
  },
  {
   "cell_type": "markdown",
   "metadata": {},
   "source": [
    "Here and further, the data is provided in dictionary format, with \"exists\" key specifying if queried data exists and \"data\" key with data itslef in a suitable format (dataframes)."
   ]
  },
  {
   "cell_type": "code",
   "execution_count": null,
   "metadata": {},
   "outputs": [],
   "source": [
    "list(data_projectsites.keys())"
   ]
  },
  {
   "cell_type": "markdown",
   "metadata": {},
   "source": [
    "To get all the location information for the specified projectsite: "
   ]
  },
  {
   "cell_type": "code",
   "execution_count": null,
   "metadata": {},
   "outputs": [],
   "source": [
    "locs = api_loc.get_assetlocations(projectsite=\"Nobelwind\")"
   ]
  },
  {
   "cell_type": "markdown",
   "metadata": {},
   "source": [
    "To make sure this data exists:"
   ]
  },
  {
   "cell_type": "code",
   "execution_count": null,
   "metadata": {},
   "outputs": [],
   "source": [
    "locs[\"exists\"]"
   ]
  },
  {
   "cell_type": "markdown",
   "metadata": {},
   "source": [
    "To view five first rows of the locations dataframe:"
   ]
  },
  {
   "cell_type": "code",
   "execution_count": null,
   "metadata": {},
   "outputs": [],
   "source": [
    "locs[\"data\"].head(3)"
   ]
  },
  {
   "cell_type": "markdown",
   "metadata": {},
   "source": [
    "For example, if there is no data for the specified project:"
   ]
  },
  {
   "cell_type": "code",
   "execution_count": null,
   "metadata": {},
   "outputs": [],
   "source": [
    "locs_false = api_loc.get_assetlocations(projectsite=\"Somename\")\n",
    "locs_false[\"exists\"]"
   ]
  },
  {
   "cell_type": "markdown",
   "metadata": {},
   "source": [
    "Please note that if you have access to a lot of projects/assets, it is better to narrow down your query as much as possible, e.g. by specifying a projectsite name or even turbine name(s). Otherwise, it might result in a lot of data and the database might run into timeout with no output returned. You even might need to use more specific method from the ones offered by the package. For that see more in documentation."
   ]
  },
  {
   "cell_type": "code",
   "execution_count": null,
   "metadata": {},
   "outputs": [],
   "source": [
    "data_asset = api_loc.get_assetlocation_detail(projectsite=\"Nobelwind\", assetlocation=[\"BBG01\"])\n",
    "data_asset[\"data\"]"
   ]
  },
  {
   "cell_type": "markdown",
   "metadata": {},
   "source": [
    "Alternatively, you can request several turbines at once. Can be from different projects. Since the requests right now are done sequentially, timeout is not as crucial in this case as it might be for geometry queries."
   ]
  },
  {
   "cell_type": "code",
   "execution_count": null,
   "metadata": {},
   "outputs": [],
   "source": [
    "data_asset = api_loc.get_assetlocations(assetlocations=[\"BBG01\", \"NRTA1\"])\n",
    "data_asset[\"data\"]"
   ]
  },
  {
   "cell_type": "markdown",
   "metadata": {},
   "source": [
    "You can also plot the locations for the all turbines you have access to, e.g. for a specific project or a set of specific turbines in a list:"
   ]
  },
  {
   "cell_type": "code",
   "execution_count": null,
   "metadata": {},
   "outputs": [],
   "source": [
    "api_loc.plot_assetlocations(projectsite=\"Nobelwind\")"
   ]
  },
  {
   "cell_type": "markdown",
   "metadata": {},
   "source": [
    "Please refer to the documentation for more specific details of each method and more capabilities. The package still might expand and add more capabilities in terms of querying specific data!"
   ]
  },
  {
   "cell_type": "markdown",
   "metadata": {},
   "source": [
    "### Geometry API"
   ]
  },
  {
   "cell_type": "markdown",
   "metadata": {},
   "source": [
    "This more extensive part of the package allows to gather and process geometrical data for each existing turbine in the database. It works in a similar manner to locations to get \"raw\" database information. But it gets a little bit different in terms of having methods allowing some preprocessing to get important geometry information (height, etc.) which can be used, e.g., as input to FE models. "
   ]
  },
  {
   "cell_type": "code",
   "execution_count": null,
   "metadata": {},
   "outputs": [],
   "source": [
    "api_geo = GeometryAPI(token=TOKEN)"
   ]
  },
  {
   "cell_type": "markdown",
   "metadata": {},
   "source": [
    "To load turbine processor to calculate the information for the turbine(s) (note it might take some time for multiple turbines and it can even timeout sometimes, please rerun the cell in this case):"
   ]
  },
  {
   "cell_type": "code",
   "execution_count": null,
   "metadata": {},
   "outputs": [],
   "source": [
    "turbines = [\"BBG01\", \"BBG10\"]\n",
    "owts = api_geo.get_owt_geometry_processor(turbines)"
   ]
  },
  {
   "cell_type": "markdown",
   "metadata": {},
   "source": [
    "By running the next cell you can see the information it can provide/store/calculate (mostly in dataframes or dictionaries): "
   ]
  },
  {
   "cell_type": "code",
   "execution_count": null,
   "metadata": {},
   "outputs": [],
   "source": [
    "list(owts.__dict__.keys())"
   ]
  },
  {
   "cell_type": "markdown",
   "metadata": {},
   "source": [
    "You can already acces the most trivial information like water depth in dictionary format:"
   ]
  },
  {
   "cell_type": "code",
   "execution_count": null,
   "metadata": {},
   "outputs": [],
   "source": [
    "owts.water_depth"
   ]
  },
  {
   "cell_type": "markdown",
   "metadata": {},
   "source": [
    "But the most important method is to calculate the information(s) about turbine(s) into dataframes. If you try to query some dataframes without running processing, they will provide no information, e.g.:"
   ]
  },
  {
   "cell_type": "code",
   "execution_count": null,
   "metadata": {},
   "outputs": [],
   "source": [
    "owts.all_turbines"
   ]
  },
  {
   "cell_type": "markdown",
   "metadata": {},
   "source": [
    "Hence, you would want to run the processing explicitly:"
   ]
  },
  {
   "cell_type": "code",
   "execution_count": null,
   "metadata": {},
   "outputs": [],
   "source": [
    "owts.process_structures()"
   ]
  },
  {
   "cell_type": "markdown",
   "metadata": {},
   "source": [
    "After this you can query all kinds of dataframes, e.g. all turbines general information:"
   ]
  },
  {
   "cell_type": "code",
   "execution_count": null,
   "metadata": {},
   "outputs": [],
   "source": [
    "owts.all_turbines"
   ]
  },
  {
   "cell_type": "markdown",
   "metadata": {},
   "source": [
    "Only tower geometry (tubular structures) for all turbines:"
   ]
  },
  {
   "cell_type": "code",
   "execution_count": null,
   "metadata": {},
   "outputs": [],
   "source": [
    "owts.tower"
   ]
  },
  {
   "cell_type": "markdown",
   "metadata": {},
   "source": [
    "For a specific turbine (you can either specify the name directly or the number in the list of turbines provided before):"
   ]
  },
  {
   "cell_type": "code",
   "execution_count": null,
   "metadata": {},
   "outputs": [],
   "source": [
    "owts.select_owt(\"BBG01\").tower"
   ]
  },
  {
   "cell_type": "markdown",
   "metadata": {},
   "source": [
    "Or even all tubular sections for all subassemblies for all turbines (convenient to filter later according to your requirement):"
   ]
  },
  {
   "cell_type": "code",
   "execution_count": null,
   "metadata": {},
   "outputs": [],
   "source": [
    "owts.all_tubular_structures"
   ]
  },
  {
   "cell_type": "markdown",
   "metadata": {},
   "source": [
    "Of course, you can also query other information like RNA:"
   ]
  },
  {
   "cell_type": "code",
   "execution_count": null,
   "metadata": {},
   "outputs": [],
   "source": [
    "owts.rna"
   ]
  },
  {
   "cell_type": "markdown",
   "metadata": {},
   "source": [
    "Or lumped masses, etc."
   ]
  },
  {
   "cell_type": "code",
   "execution_count": null,
   "metadata": {},
   "outputs": [],
   "source": [
    "owts.all_lumped_mass"
   ]
  },
  {
   "cell_type": "markdown",
   "metadata": {},
   "source": [
    "### Fatigue API"
   ]
  },
  {
   "cell_type": "markdown",
   "metadata": {},
   "source": [
    "Fatigue part is the most recent addition to the databse and this package, and it does not contain as much methods/information as other parts. In line with the other submodules, it provides the main FatigueAPI class with (for now) a couple of *get_\\** and plot methods. Most of the output will be a list of custom data objects with multiple attributes containing/operating on fatigue data."
   ]
  },
  {
   "cell_type": "code",
   "execution_count": null,
   "metadata": {},
   "outputs": [],
   "source": [
    "api_fatigue = FatigueAPI(token=TOKEN)"
   ]
  },
  {
   "cell_type": "markdown",
   "metadata": {},
   "source": [
    "For example, to get all the information on the all existing SN surves: "
   ]
  },
  {
   "cell_type": "code",
   "execution_count": null,
   "metadata": {},
   "outputs": [],
   "source": [
    "sncurves = api_fatigue.get_sncurves()\n",
    "sncurve = sncurves[0]\n",
    "print(f\"Total number of accessible SN curves in the database currently is {len(sncurves)}.\")"
   ]
  },
  {
   "cell_type": "markdown",
   "metadata": {},
   "source": [
    "For the convenience, you can check what attributes, properties and methods each object has:"
   ]
  },
  {
   "cell_type": "code",
   "execution_count": null,
   "metadata": {},
   "outputs": [],
   "source": [
    "show_attrs(sncurve)"
   ]
  },
  {
   "cell_type": "code",
   "execution_count": null,
   "metadata": {},
   "outputs": [],
   "source": [
    "show_props(sncurve)"
   ]
  },
  {
   "cell_type": "code",
   "execution_count": null,
   "metadata": {},
   "outputs": [],
   "source": [
    "show_methods(sncurve)"
   ]
  },
  {
   "cell_type": "markdown",
   "metadata": {},
   "source": [
    "To check for the range of cycles for the corresponding range of stresses (in MPa), you can run the following method:"
   ]
  },
  {
   "cell_type": "code",
   "execution_count": null,
   "metadata": {},
   "outputs": [],
   "source": [
    "n = sncurve.n([10., 100.])\n",
    "n"
   ]
  },
  {
   "cell_type": "markdown",
   "metadata": {},
   "source": [
    "Moreover, you can plot the SN curve."
   ]
  },
  {
   "cell_type": "code",
   "execution_count": null,
   "metadata": {},
   "outputs": [],
   "source": [
    "data, layout = sncurve.plotly()"
   ]
  },
  {
   "cell_type": "markdown",
   "metadata": {},
   "source": [
    "To get fatigue details for a specific turbine or parts/subassembly, for turbine:"
   ]
  },
  {
   "cell_type": "code",
   "execution_count": null,
   "metadata": {},
   "outputs": [],
   "source": [
    "fatigue_details = api_fatigue.get_fatiguedetails(title__icontains=\"NW2F04\")\n",
    "fd = fatigue_details[0]\n",
    "print(f\"The amount of accessible fatigue details according to the specified query parameters is {len(fatigue_details)}.\")"
   ]
  },
  {
   "cell_type": "code",
   "execution_count": null,
   "metadata": {},
   "outputs": [],
   "source": [
    "fd"
   ]
  },
  {
   "cell_type": "markdown",
   "metadata": {},
   "source": [
    "In case you want to specify a subassembly type in the title, be careful since the amount of accessible data is quite limited at the moment. Hence the following command should throw an error."
   ]
  },
  {
   "cell_type": "code",
   "execution_count": null,
   "metadata": {},
   "outputs": [],
   "source": [
    "fatigue_details = api_fatigue.get_fatiguedetails(title__icontains=\"NW2F04_TP\")"
   ]
  },
  {
   "cell_type": "markdown",
   "metadata": {},
   "source": [
    "While another turbine might have more data available and you could specify subassembly as well."
   ]
  },
  {
   "cell_type": "code",
   "execution_count": null,
   "metadata": {},
   "outputs": [],
   "source": [
    "fatigue_details = api_fatigue.get_fatiguedetails(title__icontains=\"NW2A01\")\n",
    "fd = fatigue_details[0]\n",
    "print(f\"The amount of accessible fatigue details according to the specified query parameters is {len(fatigue_details)}.\")"
   ]
  },
  {
   "cell_type": "markdown",
   "metadata": {},
   "source": [
    "Furthermore, you can query different properties and even corresponding SN curves:"
   ]
  },
  {
   "cell_type": "code",
   "execution_count": null,
   "metadata": {},
   "outputs": [],
   "source": [
    "fd.sncurves"
   ]
  },
  {
   "cell_type": "code",
   "execution_count": null,
   "metadata": {},
   "outputs": [],
   "source": [
    "fd.height"
   ]
  },
  {
   "cell_type": "markdown",
   "metadata": {},
   "source": [
    "You can get the requested data in a bit different format through the method below."
   ]
  },
  {
   "cell_type": "code",
   "execution_count": null,
   "metadata": {},
   "outputs": [],
   "source": [
    "fatigue_sa = api_fatigue.get_fatiguesubassembly(turbine=\"NW2A01\", subassembly=\"MP\")\n",
    "fdsa = fatigue_sa\n",
    "print(f\"The amount of accessible subassemblies according to the specified query parameters is {len(fatigue_sa)}.\")"
   ]
  },
  {
   "cell_type": "markdown",
   "metadata": {},
   "source": [
    "It can operate more on a subassembly basis while before you would get more raw list of all data according to your query."
   ]
  },
  {
   "cell_type": "code",
   "execution_count": null,
   "metadata": {},
   "outputs": [],
   "source": [
    "fdsa['MP']"
   ]
  },
  {
   "cell_type": "markdown",
   "metadata": {},
   "source": [
    "It can even provide geometrical information on the selected subassembly."
   ]
  },
  {
   "cell_type": "code",
   "execution_count": null,
   "metadata": {},
   "outputs": [],
   "source": [
    "fdsa['MP'].subassembly"
   ]
  },
  {
   "cell_type": "code",
   "execution_count": null,
   "metadata": {},
   "outputs": [],
   "source": [
    "fdsa['MP'].height"
   ]
  },
  {
   "cell_type": "code",
   "execution_count": null,
   "metadata": {},
   "outputs": [],
   "source": [
    "fdsa['MP'].fatiguedetails"
   ]
  },
  {
   "cell_type": "code",
   "execution_count": null,
   "metadata": {},
   "outputs": [],
   "source": [
    "figg = fdsa['MP'].plotly()"
   ]
  },
  {
   "cell_type": "markdown",
   "metadata": {},
   "source": [
    "Finally, currently you can plot all the existing fatigue data for a turbine in a nice overview."
   ]
  },
  {
   "cell_type": "code",
   "execution_count": null,
   "metadata": {},
   "outputs": [],
   "source": [
    "fig = api_fatigue.fatiguedetails_serializedquickview(turbines=\"NW2A01\")"
   ]
  },
  {
   "cell_type": "markdown",
   "metadata": {},
   "source": [
    "### Final remarks"
   ]
  },
  {
   "cell_type": "markdown",
   "metadata": {},
   "source": [
    "The package is currently a work in progress. In case of issues (code, docs)/bugs/suggestions contact the [authors](mailto:Arsen.Melnikov@vub.be) or [file an issue on GitHub](https://github.com/OWI-Lab/owimetadatabase-preprocessor/issues).\n",
    "\n",
    "For more specific information about the explained functionality or more functionality, please [visit the documentation](https://owi-lab.github.io/owimetadatabase-preprocessor/index.html)."
   ]
  }
 ],
 "metadata": {
  "kernelspec": {
   "display_name": "Python [conda env:owi_py12] *",
   "language": "python",
   "name": "conda-env-owi_py12-py"
  },
  "language_info": {
   "codemirror_mode": {
    "name": "ipython",
    "version": 3
   },
   "file_extension": ".py",
   "mimetype": "text/x-python",
   "name": "python",
   "nbconvert_exporter": "python",
   "pygments_lexer": "ipython3",
   "version": "3.12.9"
  }
 },
 "nbformat": 4,
 "nbformat_minor": 4
}
